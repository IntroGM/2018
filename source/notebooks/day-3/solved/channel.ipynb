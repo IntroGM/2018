{
 "cells": [
  {
   "cell_type": "code",
   "execution_count": 2,
   "metadata": {},
   "outputs": [],
   "source": [
    "import numpy as np\n",
    "import matplotlib.pyplot as plt\n",
    "from scipy.linalg import solve"
   ]
  },
  {
   "cell_type": "markdown",
   "metadata": {},
   "source": [
    "## Solution strategy for the channel flow\n",
    "\n",
    "Rearranging the discretized equation so that all unknowns are on the left hand side, on the right hand side there are only known values.\n",
    "\n",
    "$$v_{i-1} - 2v_i + v_{i+1} = \\frac{dP/dx}{\\eta}\\Delta y^2$$\n",
    "\n",
    "There is one such equation for each internal grid point. At the boundaries, boundary conditions have to be used, e.g. $v_0 = v_\\mathrm{surf}$ and $v_{\\mathrm{ny}-1} = v_\\mathrm{bott}$."
   ]
  },
  {
   "cell_type": "markdown",
   "metadata": {},
   "source": [
    "For five grid points we thus have five equations in total:\n",
    "\n",
    "$$\\begin{eqnarray}\n",
    "v_0 &    &      &    &     &    &     &   &     & = & v_\\mathrm{surf} \\\\\n",
    "v_0 & -2 & v_1  & +  & v_2 &    &     &   &     & = & \\frac{dP/dx}{\\eta}\\Delta y^2 \\\\\n",
    "    &    & v_1  & -2 & v_2 & +  & v_3 &   &     & = & \\frac{dP/dx}{\\eta}\\Delta y^2 \\\\\n",
    "    &    &      &    & v_2 & -2 & v_3 & + & v_4 & = & \\frac{dP/dx}{\\eta}\\Delta y^2 \\\\\n",
    "    &    &      &    &     &    &     &   & v_4 & = & v_\\mathrm{bott} \\\\\n",
    "\\end{eqnarray}$$"
   ]
  },
  {
   "cell_type": "markdown",
   "metadata": {},
   "source": [
    "This system of equations can be written in matrix format as\n",
    "\n",
    "$$\n",
    "\\begin{pmatrix}\n",
    "1 & & & & \\\\ \n",
    "1 & -2 &  1 & & \\\\ \n",
    " & 1 & -2 & 1 & \\\\ \n",
    " & & 1 & -2 & 1 \\\\ \n",
    " & & & & 1 \\\\ \n",
    "\\end{pmatrix}\n",
    "\\begin{pmatrix}\n",
    "v_0 \\\\ \n",
    "v_1 \\\\ \n",
    "v_2 \\\\ \n",
    "v_3 \\\\ \n",
    "v_4 \\\\ \n",
    "\\end{pmatrix}\n",
    "=\n",
    "\\begin{pmatrix}\n",
    "v_\\mathrm{surf} \\\\ \n",
    "\\frac{dP/dx}{\\eta}\\Delta y^2 \\\\ \n",
    "\\frac{dP/dx}{\\eta}\\Delta y^2 \\\\ \n",
    "\\frac{dP/dx}{\\eta}\\Delta y^2 \\\\ \n",
    "v_\\mathrm{bott} \\\\ \n",
    "\\end{pmatrix}\n",
    "$$"
   ]
  },
  {
   "cell_type": "markdown",
   "metadata": {},
   "source": [
    "and is typically written with symbols\n",
    "\n",
    "$$ \\mathbf{Ax}=\\mathbf{b}$$\n",
    "\n",
    "Python comes with a module, `scipy.linalg` that includes function `solve`, which can be used to solve this type of systems of linear equations:\n",
    "\n",
    "    from scipy.linalg import solve\n",
    "    x = solve(A, b)\n",
    "  \n",
    "where `b` has to be a 1-D NumPy array of size `ny`, and includes the numerical values of the right hand side expressions; and `A` a 2-D NumPy array of size (`ny`,`ny`), and includes the numerical coefficients, as above. `x` will then contain the wanted velocity values. The following script utilizes this function to solve the channel flow problem.\n",
    "\n",
    "### Do\n",
    "\n",
    "- Complete the following script\n",
    "    "
   ]
  },
  {
   "cell_type": "code",
   "execution_count": 4,
   "metadata": {},
   "outputs": [
    {
     "name": "stdout",
     "output_type": "stream",
     "text": [
      "A is:\n",
      " [[ 1.  0.  0.  0.  0.]\n",
      " [ 1. -2.  1.  0.  0.]\n",
      " [ 0.  1. -2.  1.  0.]\n",
      " [ 0.  0.  1. -2.  1.]\n",
      " [ 0.  0.  0.  0.  1.]] \n",
      "b is:\n",
      " [ 0.00000000e+00 -1.37340000e-10 -1.37340000e-10 -1.37340000e-10\n",
      " -3.16880878e-10]\n"
     ]
    },
    {
     "data": {
      "image/png": "[encoded data removed]",
      "text/plain": [
       "<Figure size 432x288 with 1 Axes>"
      ]
     },
     "metadata": {},
     "output_type": "display_data"
    }
   ],
   "source": [
    "# Define physical parameters\n",
    "visc = 1e19                    # Viscosity of the rock in the channel, Pa s\n",
    "dpdx = -2800*9.81*4000/500e3   # Pressure gradient within the channel, Pa m^-1\n",
    "\n",
    "# Define problem geometry\n",
    "ny = 5      # number of grid points\n",
    "L = 10e3    # size of the problem (width of the channel)\n",
    "\n",
    "# Define values for boundary conditions, m s^-1\n",
    "vx_surf = 0\n",
    "vx_bott = -0.01/(60*60*24*365.25)\n",
    "\n",
    "# Calculate grid spacing and y coordinates\n",
    "dy = L / (ny-1)\n",
    "y = np.linspace(0, L, ny)\n",
    "\n",
    "# Create the empty (zero) coefficient and right hand side arrays\n",
    "A = np.zeros((ny,ny))  # 2-dimensional array, ny rows, ny columns\n",
    "b = np.zeros(ny)\n",
    "\n",
    "# Set B.C. values in the coefficient array and in the r.h.s. array\n",
    "A[0, 0] = 1\n",
    "b[0] = vx_surf\n",
    "A[ny-1, ny-1] = 1\n",
    "b[ny-1] = vx_bott\n",
    "\n",
    "# Set remaining (internal grid point) coefficients in the array `A`.\n",
    "# TODO: Complete the for loop so that it will write the coefficient \n",
    "# values in the array `A`. The for loop loops over all the rows\n",
    "# of the matrix. On each row, you need to fill in three coefficients.\n",
    "# In python, elements of 2D arrays are referenced to like 'A[row, col]'\n",
    "for iy in range(1, ny-1):\n",
    "    A[iy, iy-1] = 1\n",
    "    A[iy, iy] = -2\n",
    "    A[iy, iy+1] = 1\n",
    "\n",
    "# Set remaining (internal grid point) coefficients in the r.h.s. array b\n",
    "for iy in range(1,ny-1):\n",
    "    b[iy] = dpdx * dy**2 / visc\n",
    "    \n",
    "# For debugging purposes, plot A (if it is small enough) and b\n",
    "if ny < 15:\n",
    "    print(\"A is:\\n\", A, \"\\nb is:\\n\", b.T)\n",
    "    \n",
    "# Solve it!\n",
    "vx = solve(A, b)\n",
    "\n",
    "# Plot it!\n",
    "plt.plot(vx * (60*60*25*365.25), -y)\n",
    "plt.show()\n"
   ]
  },
  {
   "cell_type": "markdown",
   "metadata": {},
   "source": [
    "Strain rate in 2D is defined as \n",
    "\n",
    "$$\\underline{\\underline{\\dot\\epsilon}} = \\begin{pmatrix}\n",
    "\\frac{\\partial v_x}{\\partial x} & \\frac{\\partial v_x}{\\partial y} \\\\\n",
    "\\frac{\\partial v_y}{\\partial x} & \\frac{\\partial v_y}{\\partial y} \\\\\n",
    "\\end{pmatrix}$$\n",
    "\n",
    "In our case the only relevant component is the shear strain rate $\\dot\\epsilon_{xy} = \\frac{\\partial v_x}{\\partial y}$.\n",
    "\n",
    "### Do\n",
    " \n",
    " - Discretize the shear strain rate expression\n",
    " - Complete the script below so that it will loop over all the grid points, calculate the shear strain, and store it in the array `e`\n",
    " - How does the resulting plot look like? Note that the _shear stress_ is defined as $\\sigma_{xy} = \\eta\\dot\\epsilon_{xy}$. Where is the shear stress smallest?"
   ]
  },
  {
   "cell_type": "code",
   "execution_count": 9,
   "metadata": {},
   "outputs": [
    {
     "data": {
      "image/png": "[encoded data removed]",
      "text/plain": [
       "<Figure size 432x288 with 1 Axes>"
      ]
     },
     "metadata": {},
     "output_type": "display_data"
    }
   ],
   "source": [
    "e = np.zeros(ny-1)\n",
    "\n",
    "# TODO: Write here a for-loop that loops over the grid points\n",
    "# and calculate the shear strain rate on every step\n",
    "for iy in range(0, ny-1):\n",
    "    e[iy] = (vx[iy+1] - vx[iy]) / dy\n",
    "    \n",
    "plt.plot(e, -(y[1:] + y[:-1]) / 2.0)\n",
    "plt.show()"
   ]
  },
  {
   "cell_type": "markdown",
   "metadata": {},
   "source": [
    "## Velocity boundary conditions\n",
    "\n",
    "Like in the case of heat equation, the FD formulation for velocity field may have different boundary conditions:\n",
    "\n",
    " 1. No-slip:\n",
    "     - Velocity parallel to the surface is fixed at zero\n",
    "     - $v_x = 0$\n",
    " 2. Free-slip: \n",
    "     - Shear stress at the surface is zero\n",
    "     - $0 = \\sigma_{xy} = \\eta\\dot\\epsilon_{xy} = \\eta\\frac{\\partial v_x}{\\partial y} \\Rightarrow \\frac{\\partial v_x}{\\partial y} = 0$\n",
    " 3. Other:\n",
    "     - Velocity is fixed at non-zero value\n",
    "     - e.g. $v_x = a \\neq 0$, also incoming/outgoing flow ($v_y \\neq 0$) possible (in 2D models)\n",
    " \n",
    " \n",
    " We used cases 1 and 3 previously.\n",
    " \n",
    " ### Do\n",
    " \n",
    " - Discretize the free-slip boundary condition $\\frac{\\partial v_x}{\\partial y} = 0$\n",
    " - If you want to apply this at the upper surface (i.e. at $x=x_0$), how would your system of equations change? How would the coefficients in the matrix $A$ change?\n",
    " - Modify your script for the channel flow model, and change the upper surface velocity boundarty condition from $v_x=0$ to a free-slip B.C.\n",
    "     - How does the resulting velocity plot change?\n",
    "     - How does the plot for shear strain rate change?"
   ]
  },
  {
   "cell_type": "markdown",
   "metadata": {},
   "source": [
    "Free-slip velocity b.c. at the upper boundary leads to \n",
    "\n",
    "$$\n",
    "\\begin{pmatrix}\n",
    "-1 & 1 & & & \\\\ \n",
    "1 & -2 &  1 & & \\\\ \n",
    " & 1 & -2 & 1 & \\\\ \n",
    " & & 1 & -2 & 1 \\\\ \n",
    " & & & & 1 \\\\ \n",
    "\\end{pmatrix}\n",
    "\\begin{pmatrix}\n",
    "v_0 \\\\ \n",
    "v_1 \\\\ \n",
    "v_2 \\\\ \n",
    "v_3 \\\\ \n",
    "v_4 \\\\ \n",
    "\\end{pmatrix}\n",
    "=\n",
    "\\begin{pmatrix}\n",
    "0 \\\\ \n",
    "\\frac{dP/dx}{\\eta}\\Delta y^2 \\\\ \n",
    "\\frac{dP/dx}{\\eta}\\Delta y^2 \\\\ \n",
    "\\frac{dP/dx}{\\eta}\\Delta y^2 \\\\ \n",
    "v_\\mathrm{bott} \\\\ \n",
    "\\end{pmatrix}\n",
    "$$"
   ]
  },
  {
   "cell_type": "code",
   "execution_count": 48,
   "metadata": {},
   "outputs": [
    {
     "data": {
      "image/png": "[encoded data removed]",
      "text/plain": [
       "<Figure size 432x288 with 1 Axes>"
      ]
     },
     "metadata": {},
     "output_type": "display_data"
    }
   ],
   "source": [
    "# Define physical parameters\n",
    "visc = 1e19                    # Pa s\n",
    "dpdx = -2800*9.81*4000/500e3   # Pa m^-1\n",
    "\n",
    "# Define problem geometry\n",
    "ny = 20      # number of grid points\n",
    "L = 10e3     # size of problem (width of the channel)\n",
    "\n",
    "# Define values for boundary conditions, m s^-1\n",
    "vx_surf = 0\n",
    "vx_bott = -0.01/(60*60*24*365.25)\n",
    "\n",
    "# Calculate grid spacing and y coordinates\n",
    "dy = L / (ny-1)\n",
    "y = np.linspace(0, L, ny)\n",
    "\n",
    "# Create the empty (zero) coefficient and right hand side arrays\n",
    "A = np.zeros((ny,ny))\n",
    "b = np.zeros(ny)\n",
    "\n",
    "# Set B.C. values in the coefficient array and in the r.h.s. array\n",
    "A[0, 0] = 1\n",
    "A[0, 1] = -1\n",
    "b[0] = 0\n",
    "A[ny-1, ny-1] = 1\n",
    "b[ny-1] = vx_bott\n",
    "\n",
    "# Set remaining (internal grid point) coefficients in the array A\n",
    "for iy in range(1, ny-1):\n",
    "    A[iy, iy-1] = 1\n",
    "    A[iy, iy] = -2\n",
    "    A[iy, iy+1] = 1\n",
    "\n",
    "# Set remaining (internal grid point) coefficients in the r.h.s. array b\n",
    "for iy in range(1,ny-1):\n",
    "    b[iy] = dpdx * dy**2 / visc\n",
    "    \n",
    "# For debugging purposes, plot A (if it is small enough) and b\n",
    "if ny < 15:\n",
    "    print(\"A is:\\n\", A, \"\\nb is:\\n\", b.T)\n",
    "    \n",
    "# Solve it!\n",
    "vx = solve(A, b)\n",
    "\n",
    "# Plot it!\n",
    "plt.plot(vx * (60*60*25*365.25), -y)\n",
    "plt.show()\n"
   ]
  },
  {
   "cell_type": "code",
   "execution_count": 50,
   "metadata": {},
   "outputs": [
    {
     "data": {
      "image/png": "[encoded data removed]",
      "text/plain": [
       "<Figure size 432x288 with 1 Axes>"
      ]
     },
     "metadata": {},
     "output_type": "display_data"
    }
   ],
   "source": [
    "e = np.zeros(ny-1)\n",
    "ymp = (y[1:] + y[:-1]) / 2.0\n",
    "\n",
    "for iy in range(0, ny-1):\n",
    "    e[iy] = (vx[iy+1] - vx[iy]) / dy\n",
    "    \n",
    "plt.plot(e, -ymp)\n",
    "plt.show()"
   ]
  }
 ],
 "metadata": {
  "kernelspec": {
   "display_name": "Python 3",
   "language": "python",
   "name": "python3"
  },
  "language_info": {
   "codemirror_mode": {
    "name": "ipython",
    "version": 3
   },
   "file_extension": ".py",
   "mimetype": "text/x-python",
   "name": "python",
   "nbconvert_exporter": "python",
   "pygments_lexer": "ipython3",
   "version": "3.6.4"
  }
 },
 "nbformat": 4,
 "nbformat_minor": 2
}
