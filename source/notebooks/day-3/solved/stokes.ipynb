{
 "cells": [
  {
   "cell_type": "code",
   "execution_count": 9,
   "metadata": {},
   "outputs": [],
   "source": [
    "import numpy as np\n",
    "import matplotlib.pyplot as plt\n",
    "from scipy.linalg import solve"
   ]
  },
  {
   "cell_type": "markdown",
   "metadata": {},
   "source": [
    "# FD for Stokes equation\n",
    "\n",
    "The finite differences method can be applied to the equations of momentum and continuity (the Stokes equation) to study the flow of the fluid.\n",
    "\n",
    "The equation for conservation of momentum is\n",
    "\n",
    "$$ \\nabla \\cdot \\underline{\\underline{\\sigma}} + \\underline{f} = \\underline{0} $$"
   ]
  },
  {
   "cell_type": "markdown",
   "metadata": {},
   "source": [
    "where $\\underline{\\underline{\\sigma}} = \\eta(\\nabla\\underline{v}+(\\nabla\\underline{v})^T) - P\\underline{\\underline{I}}$ is the stress tensor and $\\underline{f}$ are the body forces.\n",
    "\n",
    "This can be written, in two dimensions, separately in x- and y-directions as\n",
    "\n",
    "$$\\eta\\left(\\frac{\\partial^2 v_x}{\\partial x^2} + \\frac{\\partial^2 v_x}{\\partial y^2}\\right) - \\frac{\\partial P}{\\partial x} = 0$$\n",
    "\n",
    "$$\\eta\\left(\\frac{\\partial^2 v_y}{\\partial x^2} + \\frac{\\partial^2 v_y}{\\partial y^2}\\right) - \\frac{\\partial P}{\\partial y} + \\rho g = 0$$"
   ]
  },
  {
   "cell_type": "markdown",
   "metadata": {},
   "source": [
    "The continuity equation, conservation of mass, or the assumption of incompressibility, is\n",
    "\n",
    "$$\\frac{\\partial v_x}{\\partial x} + \\frac{\\partial v_y}{\\partial y} = 0$$\n",
    "\n",
    "These three equations are readily discretized using finite differences. Note that there are no time derivatives, but instead two spatial derivatives, in $x$ and in $y$-direction."
   ]
  },
  {
   "cell_type": "markdown",
   "metadata": {},
   "source": [
    "## Channel flow\n",
    "\n",
    "We will apply the Stokes equation to the case of orogenic channel flow. The mid- and lower crust in the internal parts of large orogenies might be partially molten due to the increased temperatures by thickened crust and increased radiogenic heating. These parts of the crust might be flowing, due to the pressure gradients imposed by the mountains, towards the thinner crust surrounding the orogeny. \n",
    "\n",
    "![Orogenic channel flow (Godin et al. 2006)](img/channel.png)\n",
    "\n",
    "*Orogenic channel flow (Godin et al. 2006). Pressure gradients drive flow to right, underthrusting plate imposes shearing flow towards left.*\n",
    "\n",
    "We want to construct a one-dimensional model of this flow, by considering the horizontal velocities at different depths within the channel, and assuming that there is no vertical flow.\n",
    "\n",
    "Since $v_y=0$ everywhere, we can disregard the second momentum equation (y-direction). In the continuity equation $\\frac{\\partial v_y}{\\partial y}=0$ leading to $\\frac{\\partial v_x}{\\partial x}=0$. Thus, the first momentum equation becomes\n",
    "\n",
    "$$\\eta\\frac{\\partial^2 v_x}{\\partial y^2} - \\frac{\\partial P}{\\partial x} = 0$$"
   ]
  },
  {
   "cell_type": "markdown",
   "metadata": {},
   "source": [
    "The value of the pressure gradient can be calculated based on the estimated lithostatic pressure difference between the channel under thick orogenic crust and the surrounding region: If we consider the extra topography by the mountain range to be $h=4000~\\mathrm{m}$, and their horizontal extent to be $d=500~\\mathrm{km}$, we get\n",
    "$$\\frac{\\partial P}{\\partial x}\\approx \\frac{h \\rho g}{d} = 219~\\mathrm{Pa~m^{-1}} $$"
   ]
  },
  {
   "cell_type": "markdown",
   "metadata": {},
   "source": [
    "The second derivative of the velocity in respect to $y$ can be discretizd using central difference, leading to:\n",
    "\n",
    "$$\\eta \\frac{v_{i+1} - 2v_i + v_{i-1}}{\\Delta y^2} - \\frac{dP}{dx} = 0$$"
   ]
  },
  {
   "cell_type": "markdown",
   "metadata": {},
   "source": [
    "### Do\n",
    "\n",
    " - Discretize the second velocity derivative and write the whole momentum equation in x-direction\n",
    " - Sketch a grid with five grid points. Mark the surface and bottom grid points that will be assigned a velocity value by the boundary conditions.\n",
    " - Looking at the figure above, what kind of B.C. are needed?\n",
    " - How would you use your discretized equation to calculate $v_1$, the first velocity value after the uppermost grid point?"
   ]
  },
  {
   "cell_type": "code",
   "execution_count": null,
   "metadata": {},
   "outputs": [],
   "source": []
  }
 ],
 "metadata": {
  "kernelspec": {
   "display_name": "Python 3",
   "language": "python",
   "name": "python3"
  },
  "language_info": {
   "codemirror_mode": {
    "name": "ipython",
    "version": 3
   },
   "file_extension": ".py",
   "mimetype": "text/x-python",
   "name": "python",
   "nbconvert_exporter": "python",
   "pygments_lexer": "ipython3",
   "version": "3.6.4"
  }
 },
 "nbformat": 4,
 "nbformat_minor": 2
}
