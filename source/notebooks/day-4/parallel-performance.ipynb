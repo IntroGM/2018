{
 "cells": [
  {
   "cell_type": "markdown",
   "metadata": {},
   "source": [
    "# Parallel performance of a simple Python code\n",
    "Here is a summary of the results from running the `mpi.py´ program."
   ]
  },
  {
   "cell_type": "code",
   "execution_count": 11,
   "metadata": {},
   "outputs": [],
   "source": [
    "import math\n",
    "import numpy as np\n",
    "import matplotlib.pyplot as plt\n",
    "plt.rcParams['figure.figsize'] = [12,6]"
   ]
  },
  {
   "cell_type": "code",
   "execution_count": 1,
   "metadata": {},
   "outputs": [],
   "source": [
    "# Lars\n",
    "nprocL = [256, 128, 64, 32, 16, 320]\n",
    "tsecL = [1.253, 1.566, 2.224, 3.567, 6.411, 1.071]"
   ]
  },
  {
   "cell_type": "code",
   "execution_count": 20,
   "metadata": {},
   "outputs": [],
   "source": [
    "# Ville\n",
    "nprocV = [400, 256, 128, 64, 32, 16, 8, 4, 2]\n",
    "tsecV = [0.972, 1.249, 1.569, 2.260, 3.633, 6.221, 11.036, 19.732, 47.045]"
   ]
  },
  {
   "cell_type": "code",
   "execution_count": 21,
   "metadata": {},
   "outputs": [],
   "source": [
    "# Isabel\n",
    "nprocI = [32, 64, 100, 100, 128, 200, 250, 256, 320, 320]\n",
    "tsecI = [4.001, 2.248, 1.590, 1.589, 1.606, 1.142, 1.211, 1.287, 1.083, 1.075]"
   ]
  },
  {
   "cell_type": "code",
   "execution_count": 22,
   "metadata": {},
   "outputs": [],
   "source": [
    "# Aleksi\n",
    "nprocA = [8, 16, 32, 64, 128, 256, 400]\n",
    "tsecA = [10.762, 6.265, 3.550, 2.229, 1.563, 1.266, 0.951]"
   ]
  },
  {
   "cell_type": "code",
   "execution_count": 25,
   "metadata": {},
   "outputs": [
    {
     "data": {
      "text/plain": [
       "<matplotlib.text.Text at 0x1179a8668>"
      ]
     },
     "execution_count": 25,
     "metadata": {},
     "output_type": "execute_result"
    },
    {
     "data": {
      "image/png": "[encoded data removed]",
      "text/plain": [
       "<matplotlib.figure.Figure at 0x118512a20>"
      ]
     },
     "metadata": {},
     "output_type": "display_data"
    }
   ],
   "source": [
    "# Convert to NumPy arrays\n",
    "nprocL = np.array(nprocL)\n",
    "tsecL = np.array(tsecL)\n",
    "nprocV = np.array(nprocV)\n",
    "tsecV = np.array(tsecV)\n",
    "nprocI = np.array(nprocI)\n",
    "tsecI = np.array(tsecI)\n",
    "nprocA = np.array(nprocA)\n",
    "tsecA = np.array(tsecA)\n",
    "\n",
    "# Plot data\n",
    "f, (ax1, ax2) = plt.subplots(1, 2)\n",
    "ax1.plot(nprocL, tsecL, 'bo')\n",
    "ax1.plot(nprocV, tsecV, 'ro')\n",
    "ax1.plot(nprocI, tsecI, 'ko')\n",
    "ax1.plot(nprocA, tsecA, 'go')\n",
    "ax1.set_title('Raw parallel performance')\n",
    "ax2.plot(np.log2(nprocL), np.log2(tsecL), 'bo')\n",
    "ax2.plot(np.log2(nprocV), np.log2(tsecV), 'ro')\n",
    "ax2.plot(np.log2(nprocI), np.log2(tsecI), 'ko')\n",
    "ax2.plot(np.log2(nprocA), np.log2(tsecA), 'go')\n",
    "ax2.set_title('Log2 parallel performance')"
   ]
  },
  {
   "cell_type": "code",
   "execution_count": null,
   "metadata": {},
   "outputs": [],
   "source": []
  }
 ],
 "metadata": {
  "kernelspec": {
   "display_name": "Python 3",
   "language": "python",
   "name": "python3"
  },
  "language_info": {
   "codemirror_mode": {
    "name": "ipython",
    "version": 3
   },
   "file_extension": ".py",
   "mimetype": "text/x-python",
   "name": "python",
   "nbconvert_exporter": "python",
   "pygments_lexer": "ipython3",
   "version": "3.6.4"
  }
 },
 "nbformat": 4,
 "nbformat_minor": 2
}
