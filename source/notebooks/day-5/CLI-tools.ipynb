{
 "cells": [
  {
   "cell_type": "markdown",
   "metadata": {},
   "source": [
    "# Helpful command line tools\n",
    "\n",
    "## Navigating the filesystem\n",
    "- `less FILENAME`: Show the contents of a text file\n",
    "    - Scroll up and down in file with arrow keys or page-up, page-down\n",
    "    - Exit by pressing `q`\n",
    "- `ls DIRECTORY`: List the contents of a directory\n",
    "- `cd DIRECTORY`: Change into directory `DIRECTORY`\n",
    "    - *Note*: Typing `cd` with no directory name given will change to your home directory\n",
    "- `cp FILENAME DESTINATION`: Copy a file from `FILENAME` to `DESTINATION`\n",
    "    - *Note*: To copy a directory you must include the `-r` flag. For example, `cp -r DIRECTORY DESTINATION`"
   ]
  },
  {
   "cell_type": "markdown",
   "metadata": {},
   "source": [
    "## Running DOUAR jobs\n",
    "\n",
    "### Editing and running a new job\n",
    "To run a new simulation with DOUAR you should do the following:\n",
    "```bash\n",
    "cd\n",
    "cd douar/inputs\n",
    "cp OLDMODEL.txt NEWMODEL.txt\n",
    "nano NEWMODEL.txt\n",
    "```\n",
    "*(edit parameters)*\n",
    "```bash\n",
    "~/bin/submitdouar.sh -i ~/douar/inputs/NEWMODEL.txt -n 32\n",
    "```"
   ]
  },
  {
   "cell_type": "markdown",
   "metadata": {},
   "source": [
    "### Monitoring job status/cancelling a job\n",
    "\n",
    "- `squeue`: Show a list of models running on the geo-hpcc cluster\n",
    "- `scancel JOB_ID`: Cancel a job running on the cluster"
   ]
  },
  {
   "cell_type": "markdown",
   "metadata": {},
   "source": [
    "### Postprocessing job output\n",
    "To create the `VTK` files for visualization in **ParaView**, you can do the following:\n",
    "\n",
    "```bash\n",
    "cd /globalscratch/introgmN/douar/NEWMODEL_yymmddhhmmss/OUT\n",
    "~/bin/process_outbin.sh -n #\n",
    "```\n",
    "\n",
    "*(tranfer `.vtk` files using **WinSCP** or **scp**)*\n",
    "\n",
    "*(View data in ParaView)*\n",
    "\n",
    "where `N` is your number for the username you were using during the course and `#` is the frequency of VTK output to produce. For example, `~/bin/process_outbin.sh -n 5` would produce output for every 5th DOUAR time step."
   ]
  },
  {
   "cell_type": "code",
   "execution_count": null,
   "metadata": {},
   "outputs": [],
   "source": []
  }
 ],
 "metadata": {
  "kernelspec": {
   "display_name": "Python 3",
   "language": "python",
   "name": "python3"
  },
  "language_info": {
   "codemirror_mode": {
    "name": "ipython",
    "version": 3
   },
   "file_extension": ".py",
   "mimetype": "text/x-python",
   "name": "python",
   "nbconvert_exporter": "python",
   "pygments_lexer": "ipython3",
   "version": "3.6.4"
  }
 },
 "nbformat": 4,
 "nbformat_minor": 2
}
